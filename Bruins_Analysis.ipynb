{
 "cells": [
  {
   "cell_type": "markdown",
   "metadata": {},
   "source": [
    "<h1 align='center'>Bruins Stats</h1>\n",
    "<img src='http://thepinkpuck.com/wp-content/uploads/2014/10/boston-bruins-logo.jpg', align='center', heigh=200, width=250>\n",
    "<h5 align='center'>Years 2015 - Present</h5>"
   ]
  },
  {
   "cell_type": "code",
   "execution_count": 1,
   "metadata": {
    "tags": []
   },
   "outputs": [],
   "source": [
    "%matplotlib inline\n",
    "\n",
    "import pandas as pd\n",
    "import matplotlib.pyplot as plt\n",
    "from datetime import datetime\n",
    "from tabulate import tabulate\n",
    "plt.style.use('seaborn-bright')"
   ]
  },
  {
   "cell_type": "code",
   "execution_count": 2,
   "metadata": {
    "tags": []
   },
   "outputs": [],
   "source": [
    "# setting url data\n",
    "\n",
    "url_2015 = 'https://www.hockey-reference.com/teams/BOS/2015_games.html'\n",
    "url_2016 = 'https://www.hockey-reference.com/teams/BOS/2016_games.html'\n",
    "url_2017 = 'https://www.hockey-reference.com/teams/BOS/2017_games.html'\n",
    "url_2018 = 'https://www.hockey-reference.com/teams/BOS/2018_games.html'\n",
    "url_2019 = 'https://www.hockey-reference.com/teams/BOS/2019_games.html'\n",
    "url_2020 = 'https://www.hockey-reference.com/teams/BOS/2020_games.html'\n",
    "\n",
    "# creating dataframe for each year\n",
    "df_2015 = pd.read_html(url_2015)[0]\n",
    "df_2016 = pd.read_html(url_2016)[0]\n",
    "df_2017 = pd.read_html(url_2017)[0]\n",
    "df_2018 = pd.read_html(url_2018)[0]\n",
    "df_2019 = pd.read_html(url_2019)[0]\n",
    "df_2020 = pd.read_html(url_2020)[0]\n",
    "#df_2020 = df_2020.drop(columns=['Time']) # dropping time column to match\n",
    "\n",
    "# rename columns to match\n",
    "#df_2020.rename(columns = {'Unnamed: 7': 'Unnamed: 6', 'Unnamed: 8': 'Unnamed: 7'}, inplace=True)\n",
    "\n",
    "years = [df_2015,df_2016,df_2017,df_2018,df_2019,df_2020]\n",
    "\n",
    "b_data = pd.concat(years, sort=False)\n",
    "\n",
    "b_data = b_data[b_data.GP != 'GP']\n",
    "\n",
    "b_data.rename(columns = {'Unnamed: 6':'Result', 'Unnamed: 7': 'OT_SO'}, inplace = True)\n",
    "\n"
   ]
  },
  {
   "cell_type": "markdown",
   "metadata": {},
   "source": [
    "<h2>Total Games Played</h2>"
   ]
  },
  {
   "cell_type": "code",
   "execution_count": 3,
   "metadata": {},
   "outputs": [
    {
     "name": "stdout",
     "output_type": "stream",
     "text": [
      "  480\n"
     ]
    }
   ],
   "source": [
    "tgp = b_data['Result'].count()\n",
    "print(\" \" , tgp)"
   ]
  },
  {
   "cell_type": "markdown",
   "metadata": {},
   "source": [
    "<h2> Wins vs Loss </h2>"
   ]
  },
  {
   "cell_type": "code",
   "execution_count": 4,
   "metadata": {},
   "outputs": [
    {
     "name": "stdout",
     "output_type": "stream",
     "text": [
      "Wins: 270 Loss: 210\n"
     ]
    },
    {
     "data": {
      "image/png": "[encoded data removed]",
      "text/plain": [
       "<Figure size 432x288 with 1 Axes>"
      ]
     },
     "metadata": {
      "needs_background": "light"
     },
     "output_type": "display_data"
    }
   ],
   "source": [
    "w_l = b_data['Result'].value_counts().values\n",
    "print('Wins:',w_l[0],'Loss:',w_l[1])\n",
    "b_data['Result'].value_counts().plot(kind='bar', color=['gold', 'red']);"
   ]
  },
  {
   "cell_type": "markdown",
   "metadata": {},
   "source": [
    "<h2>OT vs SO</h2>"
   ]
  },
  {
   "cell_type": "code",
   "execution_count": 5,
   "metadata": {},
   "outputs": [
    {
     "data": {
      "image/png": "[encoded data removed]",
      "text/plain": [
       "<Figure size 432x288 with 1 Axes>"
      ]
     },
     "metadata": {
      "needs_background": "light"
     },
     "output_type": "display_data"
    }
   ],
   "source": [
    "b_data.groupby('Result')['OT_SO'].value_counts().unstack().plot(kind='bar', color=['gold','red']);"
   ]
  },
  {
   "cell_type": "code",
   "execution_count": 8,
   "metadata": {
    "tags": []
   },
   "outputs": [],
   "source": [
    "def opp_team(team):\n",
    "    opp_games = b_data[b_data['Opponent'].str.contains(team)]\n",
    "    opp_games = opp_games.sort_values(by='Date')\n",
    "    opp_games[['GF','GA']] = opp_games[['GF','GA']].apply(pd.to_numeric)\n",
    "    game_count = opp_games['Result'].value_counts()\n",
    "    goals = opp_games[['GF','GA']].sum()\n",
    "    total_games = opp_games['Result'].count()\n",
    "    total_wins = opp_games['Result'].str.contains('W').sum()\n",
    "   \n",
    "    \n",
    "\n",
    "    print()\n",
    "    print(tabulate(opp_games.iloc[:,[1,3,4,5,6,7]], headers='keys', tablefmt='psql', showindex=False))\n",
    "    print()\n",
    "    print(game_count.to_string())\n",
    "    \n",
    "    plt.figure(figsize=(8,8))\n",
    "    plt.subplot(3, 1, 1)\n",
    "    game_count.plot(kind='bar', color=['gold', 'red'])\n",
    "    plt.title('Wins vs Loss')\n",
    "    plt.show()\n",
    "    \n",
    "    print()\n",
    "    print(goals.to_string())\n",
    "    plt.figure(figsize=(8,8))\n",
    "    plt.subplot(3, 1, 2)\n",
    "    goals.plot(kind='bar', color=['gold', 'red'])\n",
    "    plt.title('Total Goals')\n",
    "    plt.show()\n",
    "    \n",
    "    plt.figure(figsize=(8,8))\n",
    "    plt.subplot(3,1,2)\n",
    "    opp_games.groupby('Result')['OT_SO'].value_counts().plot(kind='bar')\n",
    "    plt.show()\n",
    "      \n",
    "    "
   ]
  },
  {
   "cell_type": "markdown",
   "metadata": {},
   "source": [
    "<h2>Opponent</h2>"
   ]
  },
  {
   "cell_type": "code",
   "execution_count": 9,
   "metadata": {},
   "outputs": [
    {
     "name": "stdout",
     "output_type": "stream",
     "text": [
      "\n",
      "+------------+------------------+------+------+----------+---------+\n",
      "| Date       | Opponent         |   GF |   GA | Result   | OT_SO   |\n",
      "|------------+------------------+------+------+----------+---------|\n",
      "| 2014-11-04 | Florida Panthers |    2 |    1 | W        | OT      |\n",
      "| 2015-03-21 | Florida Panthers |    1 |    2 | L        | SO      |\n",
      "| 2015-03-31 | Florida Panthers |    3 |    2 | W        | nan     |\n",
      "| 2015-04-09 | Florida Panthers |    2 |    4 | L        | nan     |\n",
      "| 2015-10-30 | Florida Panthers |    3 |    1 | W        | nan     |\n",
      "| 2015-12-12 | Florida Panthers |    3 |    1 | W        | nan     |\n",
      "| 2016-03-07 | Florida Panthers |    5 |    4 | W        | OT      |\n",
      "| 2016-03-24 | Florida Panthers |    1 |    4 | L        | nan     |\n",
      "| 2016-11-01 | Florida Panthers |    2 |    1 | W        | nan     |\n",
      "| 2016-12-05 | Florida Panthers |    4 |    3 | W        | OT      |\n",
      "| 2016-12-22 | Florida Panthers |    3 |    1 | W        | nan     |\n",
      "| 2017-01-07 | Florida Panthers |    4 |    0 | W        | nan     |\n",
      "| 2017-04-01 | Florida Panthers |    5 |    2 | W        | nan     |\n",
      "| 2018-03-15 | Florida Panthers |    0 |    3 | L        | nan     |\n",
      "| 2018-03-31 | Florida Panthers |    5 |    1 | W        | nan     |\n",
      "| 2018-04-05 | Florida Panthers |    2 |    3 | L        | nan     |\n",
      "| 2018-04-08 | Florida Panthers |    2 |    4 | L        | nan     |\n",
      "| 2018-12-04 | Florida Panthers |    0 |    5 | L        | nan     |\n",
      "| 2019-03-07 | Florida Panthers |    4 |    3 | W        | nan     |\n",
      "| 2019-03-23 | Florida Panthers |    7 |    3 | W        | nan     |\n",
      "| 2019-03-30 | Florida Panthers |    1 |    4 | L        | nan     |\n",
      "| 2019-11-12 | Florida Panthers |    4 |    5 | L        | SO      |\n",
      "| 2019-12-14 | Florida Panthers |    4 |    2 | W        | nan     |\n",
      "| 2020-03-05 | Florida Panthers |    2 |    1 | W        | OT      |\n",
      "+------------+------------------+------+------+----------+---------+\n",
      "\n",
      "W    15\n",
      "L     9\n"
     ]
    },
    {
     "data": {
      "image/png": "[encoded data removed]",
      "text/plain": [
       "<Figure size 576x576 with 1 Axes>"
      ]
     },
     "metadata": {
      "needs_background": "light"
     },
     "output_type": "display_data"
    },
    {
     "name": "stdout",
     "output_type": "stream",
     "text": [
      "\n",
      "GF    69\n",
      "GA    60\n"
     ]
    },
    {
     "data": {
      "image/png": "[encoded data removed]",
      "text/plain": [
       "<Figure size 576x576 with 1 Axes>"
      ]
     },
     "metadata": {
      "needs_background": "light"
     },
     "output_type": "display_data"
    },
    {
     "data": {
      "image/png": "[encoded data removed]",
      "text/plain": [
       "<Figure size 576x576 with 1 Axes>"
      ]
     },
     "metadata": {
      "needs_background": "light"
     },
     "output_type": "display_data"
    }
   ],
   "source": [
    "opp_team('Florida')"
   ]
  },
  {
   "cell_type": "code",
   "execution_count": null,
   "metadata": {},
   "outputs": [],
   "source": []
  }
 ],
 "metadata": {
  "kernelspec": {
   "display_name": "Python 3",
   "language": "python",
   "name": "python3"
  },
  "language_info": {
   "codemirror_mode": {
    "name": "ipython",
    "version": 3
   },
   "file_extension": ".py",
   "mimetype": "text/x-python",
   "name": "python",
   "nbconvert_exporter": "python",
   "pygments_lexer": "ipython3",
   "version": "3.8.5"
  }
 },
 "nbformat": 4,
 "nbformat_minor": 4
}
