{
 "cells": [
  {
   "cell_type": "markdown",
   "metadata": {},
   "source": [
    "<h1 align='center'>Bruins Stats</h1>\n",
    "<img src='http://thepinkpuck.com/wp-content/uploads/2014/10/boston-bruins-logo.jpg', align='center', heigh=200, width=250>\n",
    "<h5 align='center'>Years 2015 - 2021</h5>"
   ]
  },
  {
   "cell_type": "code",
   "execution_count": 23,
   "metadata": {
    "tags": []
   },
   "outputs": [],
   "source": [
    "%matplotlib inline\n",
    "\n",
    "import pandas as pd\n",
    "import matplotlib.pyplot as plt\n",
    "from datetime import datetime\n",
    "from tabulate import tabulate\n",
    "plt.style.use('seaborn-bright')"
   ]
  },
  {
   "cell_type": "code",
   "execution_count": 24,
   "metadata": {
    "tags": []
   },
   "outputs": [],
   "source": [
    "# setting url data\n",
    "\n",
    "url_2015 = 'https://www.hockey-reference.com/teams/BOS/2015_games.html'\n",
    "url_2016 = 'https://www.hockey-reference.com/teams/BOS/2016_games.html'\n",
    "url_2017 = 'https://www.hockey-reference.com/teams/BOS/2017_games.html'\n",
    "url_2018 = 'https://www.hockey-reference.com/teams/BOS/2018_games.html'\n",
    "url_2019 = 'https://www.hockey-reference.com/teams/BOS/2019_games.html'\n",
    "url_2020 = 'https://www.hockey-reference.com/teams/BOS/2020_games.html'\n",
    "url_2021 = 'https://www.hockey-reference.com/teams/BOS/2021_games.html'\n",
    "\n",
    "# creating dataframe for each year\n",
    "df_2015 = pd.read_html(url_2015)[0]\n",
    "df_2016 = pd.read_html(url_2016)[0]\n",
    "df_2017 = pd.read_html(url_2017)[0]\n",
    "df_2018 = pd.read_html(url_2018)[0]\n",
    "df_2019 = pd.read_html(url_2019)[0]\n",
    "df_2020 = pd.read_html(url_2020)[0]\n",
    "df_2021 = pd.read_html(url_2021)[0]\n",
    "#df_2020 = df_2020.drop(columns=['Time']) # dropping time column to match\n",
    "\n",
    "# rename columns to match\n",
    "#df_2020.rename(columns = {'Unnamed: 7': 'Unnamed: 6', 'Unnamed: 8': 'Unnamed: 7'}, inplace=True)\n",
    "\n",
    "years = [df_2015,df_2016,df_2017,df_2018,df_2019,df_2020,df_2021]\n",
    "\n",
    "b_data = pd.concat(years, sort=False)\n",
    "\n",
    "b_data = b_data[b_data.GP != 'GP']\n",
    "\n",
    "b_data.rename(columns = {'Unnamed: 6':'Result', 'Unnamed: 7': 'OT_SO'}, inplace = True)\n",
    "\n"
   ]
  },
  {
   "cell_type": "markdown",
   "metadata": {},
   "source": [
    "<h2>Total Games Played</h2>"
   ]
  },
  {
   "cell_type": "code",
   "execution_count": 25,
   "metadata": {},
   "outputs": [
    {
     "name": "stdout",
     "output_type": "stream",
     "text": [
      "  536\n"
     ]
    }
   ],
   "source": [
    "tgp = b_data['Result'].count()\n",
    "print(\" \" , tgp)"
   ]
  },
  {
   "cell_type": "markdown",
   "metadata": {},
   "source": [
    "<h2> Wins vs Loss </h2>"
   ]
  },
  {
   "cell_type": "code",
   "execution_count": 26,
   "metadata": {},
   "outputs": [
    {
     "name": "stdout",
     "output_type": "stream",
     "text": [
      "Wins: 303 Loss: 233\n"
     ]
    },
    {
     "data": {
      "image/png": "[encoded data removed]",
      "text/plain": [
       "<Figure size 432x288 with 1 Axes>"
      ]
     },
     "metadata": {
      "needs_background": "light"
     },
     "output_type": "display_data"
    }
   ],
   "source": [
    "w_l = b_data['Result'].value_counts().values\n",
    "print('Wins:',w_l[0],'Loss:',w_l[1])\n",
    "b_data['Result'].value_counts().plot(kind='bar', color=['gold', 'red']);"
   ]
  },
  {
   "cell_type": "markdown",
   "metadata": {},
   "source": [
    "<h2>OT vs SO</h2>"
   ]
  },
  {
   "cell_type": "code",
   "execution_count": 27,
   "metadata": {},
   "outputs": [
    {
     "data": {
      "image/png": "[encoded data removed]",
      "text/plain": [
       "<Figure size 432x288 with 1 Axes>"
      ]
     },
     "metadata": {
      "needs_background": "light"
     },
     "output_type": "display_data"
    }
   ],
   "source": [
    "b_data.groupby('Result')['OT_SO'].value_counts().unstack().plot(kind='bar', color=['gold','red']);"
   ]
  },
  {
   "cell_type": "code",
   "execution_count": 28,
   "metadata": {
    "tags": []
   },
   "outputs": [],
   "source": [
    "def opp_team(team):\n",
    "    opp_games = b_data[b_data['Opponent'].str.contains(team)]\n",
    "    opp_games = opp_games.sort_values(by='Date')\n",
    "    opp_games[['GF','GA']] = opp_games[['GF','GA']].apply(pd.to_numeric)\n",
    "    game_count = opp_games['Result'].value_counts()\n",
    "    goals = opp_games[['GF','GA']].sum()\n",
    "    total_games = opp_games['Result'].count()\n",
    "    total_wins = opp_games['Result'].str.contains('W').sum()\n",
    "   \n",
    "    \n",
    "\n",
    "    print()\n",
    "    print(tabulate(opp_games.iloc[:,[1,3,4,5,6,7]].tail(), headers='keys', tablefmt='psql', showindex=False))\n",
    "    print()\n",
    "    print(game_count.to_string())\n",
    "    \n",
    "    plt.figure(figsize=(8,8))\n",
    "    plt.subplot(3, 1, 1)\n",
    "    game_count.plot(kind='bar', color=['gold', 'red'])\n",
    "    plt.title('Wins vs Loss')\n",
    "    plt.show()\n",
    "    \n",
    "    print()\n",
    "    print(goals.to_string())\n",
    "    plt.figure(figsize=(8,8))\n",
    "    plt.subplot(3, 1, 2)\n",
    "    goals.plot(kind='bar', color=['gold', 'red'])\n",
    "    plt.title('Total Goals')\n",
    "    plt.show()\n",
    "    \n",
    "    plt.figure(figsize=(8,8))\n",
    "    plt.subplot(3,1,2)\n",
    "    ot_so = opp_games.groupby('Result')['OT_SO'].value_counts().unstack();\n",
    "    ot_so.plot(kind='bar')\n",
    "    plt.legend()\n",
    "    plt.title('OT vs SO')\n",
    "    plt.show()\n",
    "      \n",
    "    "
   ]
  },
  {
   "cell_type": "markdown",
   "metadata": {},
   "source": [
    "<h2>Opponent</h2>"
   ]
  },
  {
   "cell_type": "code",
   "execution_count": 29,
   "metadata": {},
   "outputs": [
    {
     "name": "stdout",
     "output_type": "stream",
     "text": [
      "\n",
      "+------------+--------------------+------+------+----------+---------+\n",
      "| Date       | Opponent           |   GF |   GA | Result   | OT_SO   |\n",
      "|------------+--------------------+------+------+----------+---------|\n",
      "| 2021-04-15 | New York Islanders |    4 |    1 | W        | nan     |\n",
      "| 2021-04-16 | New York Islanders |    3 |    0 | W        | nan     |\n",
      "| 2021-05-06 | New York Rangers   |    4 |    0 | W        | nan     |\n",
      "| 2021-05-08 | New York Rangers   |    4 |    5 | L        | nan     |\n",
      "| 2021-05-10 | New York Islanders |    3 |    2 | W        | OT      |\n",
      "+------------+--------------------+------+------+----------+---------+\n",
      "\n",
      "W    30\n",
      "L    22\n"
     ]
    },
    {
     "data": {
      "image/png": "[encoded data removed]",
      "text/plain": [
       "<Figure size 576x576 with 1 Axes>"
      ]
     },
     "metadata": {
      "needs_background": "light"
     },
     "output_type": "display_data"
    },
    {
     "name": "stdout",
     "output_type": "stream",
     "text": [
      "\n",
      "GF    150\n",
      "GA    122\n"
     ]
    },
    {
     "data": {
      "image/png": "[encoded data removed]",
      "text/plain": [
       "<Figure size 576x576 with 1 Axes>"
      ]
     },
     "metadata": {
      "needs_background": "light"
     },
     "output_type": "display_data"
    },
    {
     "data": {
      "image/png": "[encoded data removed]",
      "text/plain": [
       "<Figure size 576x576 with 1 Axes>"
      ]
     },
     "metadata": {
      "needs_background": "light"
     },
     "output_type": "display_data"
    },
    {
     "data": {
      "image/png": "[encoded data removed]",
      "text/plain": [
       "<Figure size 432x288 with 1 Axes>"
      ]
     },
     "metadata": {
      "needs_background": "light"
     },
     "output_type": "display_data"
    }
   ],
   "source": [
    "opp_team('New York')"
   ]
  },
  {
   "cell_type": "code",
   "execution_count": null,
   "metadata": {},
   "outputs": [],
   "source": []
  }
 ],
 "metadata": {
  "kernelspec": {
   "display_name": "Python 3",
   "language": "python",
   "name": "python3"
  },
  "language_info": {
   "codemirror_mode": {
    "name": "ipython",
    "version": 3
   },
   "file_extension": ".py",
   "mimetype": "text/x-python",
   "name": "python",
   "nbconvert_exporter": "python",
   "pygments_lexer": "ipython3",
   "version": "3.8.10"
  }
 },
 "nbformat": 4,
 "nbformat_minor": 4
}
