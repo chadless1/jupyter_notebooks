{
 "cells": [
  {
   "cell_type": "code",
   "execution_count": 103,
   "id": "compressed-wright",
   "metadata": {},
   "outputs": [],
   "source": [
    "%matplotlib inline\n",
    "\n",
    "import pandas as pd\n",
    "import matplotlib.pyplot as plt"
   ]
  },
  {
   "cell_type": "code",
   "execution_count": 104,
   "id": "neural-innocent",
   "metadata": {},
   "outputs": [],
   "source": [
    "# Read csv file from github\n",
    "# https://github.com/nytimes/covid-19-data\n",
    "# State Data\n",
    "url = 'https://raw.githubusercontent.com/nytimes/covid-19-data/master/us-states.csv'\n",
    "\n",
    "df_states = pd.read_csv(url)\n",
    "df_states['date'] = pd.to_datetime(df_states['date'])"
   ]
  },
  {
   "cell_type": "markdown",
   "id": "unlimited-bobby",
   "metadata": {},
   "source": [
    "### DataFrame info"
   ]
  },
  {
   "cell_type": "code",
   "execution_count": 105,
   "id": "allied-message",
   "metadata": {},
   "outputs": [
    {
     "data": {
      "text/html": [
       "<div>\n",
       "<style scoped>\n",
       "    .dataframe tbody tr th:only-of-type {\n",
       "        vertical-align: middle;\n",
       "    }\n",
       "\n",
       "    .dataframe tbody tr th {\n",
       "        vertical-align: top;\n",
       "    }\n",
       "\n",
       "    .dataframe thead th {\n",
       "        text-align: right;\n",
       "    }\n",
       "</style>\n",
       "<table border=\"1\" class=\"dataframe\">\n",
       "  <thead>\n",
       "    <tr style=\"text-align: right;\">\n",
       "      <th></th>\n",
       "      <th>fips</th>\n",
       "      <th>cases</th>\n",
       "      <th>deaths</th>\n",
       "    </tr>\n",
       "  </thead>\n",
       "  <tbody>\n",
       "    <tr>\n",
       "      <th>count</th>\n",
       "      <td>41726.000000</td>\n",
       "      <td>4.172600e+04</td>\n",
       "      <td>41726.000000</td>\n",
       "    </tr>\n",
       "    <tr>\n",
       "      <th>mean</th>\n",
       "      <td>32.108541</td>\n",
       "      <td>5.107918e+05</td>\n",
       "      <td>8357.534535</td>\n",
       "    </tr>\n",
       "    <tr>\n",
       "      <th>std</th>\n",
       "      <td>18.730127</td>\n",
       "      <td>8.837299e+05</td>\n",
       "      <td>13212.618423</td>\n",
       "    </tr>\n",
       "    <tr>\n",
       "      <th>min</th>\n",
       "      <td>1.000000</td>\n",
       "      <td>1.000000e+00</td>\n",
       "      <td>0.000000</td>\n",
       "    </tr>\n",
       "    <tr>\n",
       "      <th>25%</th>\n",
       "      <td>17.000000</td>\n",
       "      <td>3.196875e+04</td>\n",
       "      <td>600.000000</td>\n",
       "    </tr>\n",
       "    <tr>\n",
       "      <th>50%</th>\n",
       "      <td>31.000000</td>\n",
       "      <td>1.826635e+05</td>\n",
       "      <td>2970.500000</td>\n",
       "    </tr>\n",
       "    <tr>\n",
       "      <th>75%</th>\n",
       "      <td>46.000000</td>\n",
       "      <td>6.238032e+05</td>\n",
       "      <td>10148.000000</td>\n",
       "    </tr>\n",
       "    <tr>\n",
       "      <th>max</th>\n",
       "      <td>78.000000</td>\n",
       "      <td>9.088616e+06</td>\n",
       "      <td>88709.000000</td>\n",
       "    </tr>\n",
       "  </tbody>\n",
       "</table>\n",
       "</div>"
      ],
      "text/plain": [
       "               fips         cases        deaths\n",
       "count  41726.000000  4.172600e+04  41726.000000\n",
       "mean      32.108541  5.107918e+05   8357.534535\n",
       "std       18.730127  8.837299e+05  13212.618423\n",
       "min        1.000000  1.000000e+00      0.000000\n",
       "25%       17.000000  3.196875e+04    600.000000\n",
       "50%       31.000000  1.826635e+05   2970.500000\n",
       "75%       46.000000  6.238032e+05  10148.000000\n",
       "max       78.000000  9.088616e+06  88709.000000"
      ]
     },
     "execution_count": 105,
     "metadata": {},
     "output_type": "execute_result"
    }
   ],
   "source": [
    "df_states.describe()"
   ]
  },
  {
   "cell_type": "code",
   "execution_count": 106,
   "id": "convenient-funeral",
   "metadata": {},
   "outputs": [
    {
     "name": "stdout",
     "output_type": "stream",
     "text": [
      "<class 'pandas.core.frame.DataFrame'>\n",
      "RangeIndex: 41726 entries, 0 to 41725\n",
      "Data columns (total 5 columns):\n",
      " #   Column  Non-Null Count  Dtype         \n",
      "---  ------  --------------  -----         \n",
      " 0   date    41726 non-null  datetime64[ns]\n",
      " 1   state   41726 non-null  object        \n",
      " 2   fips    41726 non-null  int64         \n",
      " 3   cases   41726 non-null  int64         \n",
      " 4   deaths  41726 non-null  int64         \n",
      "dtypes: datetime64[ns](1), int64(3), object(1)\n",
      "memory usage: 1.6+ MB\n"
     ]
    }
   ],
   "source": [
    "df_states.info()"
   ]
  },
  {
   "cell_type": "code",
   "execution_count": 107,
   "id": "fixed-destination",
   "metadata": {},
   "outputs": [
    {
     "data": {
      "text/html": [
       "<div>\n",
       "<style scoped>\n",
       "    .dataframe tbody tr th:only-of-type {\n",
       "        vertical-align: middle;\n",
       "    }\n",
       "\n",
       "    .dataframe tbody tr th {\n",
       "        vertical-align: top;\n",
       "    }\n",
       "\n",
       "    .dataframe thead th {\n",
       "        text-align: right;\n",
       "    }\n",
       "</style>\n",
       "<table border=\"1\" class=\"dataframe\">\n",
       "  <thead>\n",
       "    <tr style=\"text-align: right;\">\n",
       "      <th></th>\n",
       "      <th>date</th>\n",
       "      <th>state</th>\n",
       "      <th>fips</th>\n",
       "      <th>cases</th>\n",
       "      <th>deaths</th>\n",
       "    </tr>\n",
       "  </thead>\n",
       "  <tbody>\n",
       "    <tr>\n",
       "      <th>0</th>\n",
       "      <td>2020-01-21</td>\n",
       "      <td>Washington</td>\n",
       "      <td>53</td>\n",
       "      <td>1</td>\n",
       "      <td>0</td>\n",
       "    </tr>\n",
       "    <tr>\n",
       "      <th>1</th>\n",
       "      <td>2020-01-22</td>\n",
       "      <td>Washington</td>\n",
       "      <td>53</td>\n",
       "      <td>1</td>\n",
       "      <td>0</td>\n",
       "    </tr>\n",
       "    <tr>\n",
       "      <th>2</th>\n",
       "      <td>2020-01-23</td>\n",
       "      <td>Washington</td>\n",
       "      <td>53</td>\n",
       "      <td>1</td>\n",
       "      <td>0</td>\n",
       "    </tr>\n",
       "    <tr>\n",
       "      <th>3</th>\n",
       "      <td>2020-01-24</td>\n",
       "      <td>Illinois</td>\n",
       "      <td>17</td>\n",
       "      <td>1</td>\n",
       "      <td>0</td>\n",
       "    </tr>\n",
       "    <tr>\n",
       "      <th>4</th>\n",
       "      <td>2020-01-24</td>\n",
       "      <td>Washington</td>\n",
       "      <td>53</td>\n",
       "      <td>1</td>\n",
       "      <td>0</td>\n",
       "    </tr>\n",
       "  </tbody>\n",
       "</table>\n",
       "</div>"
      ],
      "text/plain": [
       "        date       state  fips  cases  deaths\n",
       "0 2020-01-21  Washington    53      1       0\n",
       "1 2020-01-22  Washington    53      1       0\n",
       "2 2020-01-23  Washington    53      1       0\n",
       "3 2020-01-24    Illinois    17      1       0\n",
       "4 2020-01-24  Washington    53      1       0"
      ]
     },
     "execution_count": 107,
     "metadata": {},
     "output_type": "execute_result"
    }
   ],
   "source": [
    "df_states.head()"
   ]
  },
  {
   "cell_type": "markdown",
   "id": "irish-advertising",
   "metadata": {},
   "source": [
    "### Overall Cases, Deaths"
   ]
  },
  {
   "cell_type": "code",
   "execution_count": 108,
   "id": "pointed-sailing",
   "metadata": {},
   "outputs": [
    {
     "data": {
      "text/plain": [
       "<AxesSubplot:xlabel='date'>"
      ]
     },
     "execution_count": 108,
     "metadata": {},
     "output_type": "execute_result"
    },
    {
     "data": {
      "image/png": "[encoded data removed]",
      "text/plain": [
       "<Figure size 432x288 with 1 Axes>"
      ]
     },
     "metadata": {
      "needs_background": "light"
     },
     "output_type": "display_data"
    }
   ],
   "source": [
    "dff = df_states[['cases', 'deaths']].groupby(df_states['date']).sum()\n",
    "dff.plot()"
   ]
  },
  {
   "cell_type": "markdown",
   "id": "abstract-communications",
   "metadata": {},
   "source": [
    "## Total Cases, Deaths"
   ]
  },
  {
   "cell_type": "code",
   "execution_count": 109,
   "id": "instant-shape",
   "metadata": {},
   "outputs": [
    {
     "data": {
      "text/plain": [
       "cases     79852810\n",
       "deaths      975515\n",
       "dtype: int64"
      ]
     },
     "execution_count": 109,
     "metadata": {},
     "output_type": "execute_result"
    }
   ],
   "source": [
    "# narror down data to most recent date\n",
    "current = df_states[df_states['date']== df_states['date'].max()] \n",
    "current[['cases', 'deaths']].sum()"
   ]
  },
  {
   "cell_type": "code",
   "execution_count": 110,
   "id": "general-trout",
   "metadata": {},
   "outputs": [
    {
     "data": {
      "text/plain": [
       "<AxesSubplot:>"
      ]
     },
     "execution_count": 110,
     "metadata": {},
     "output_type": "execute_result"
    },
    {
     "data": {
      "image/png": "[encoded data removed]",
      "text/plain": [
       "<Figure size 432x288 with 1 Axes>"
      ]
     },
     "metadata": {
      "needs_background": "light"
     },
     "output_type": "display_data"
    }
   ],
   "source": [
    "current[['cases', 'deaths']].sum().plot(kind='bar', color=['blue', 'orange'])"
   ]
  },
  {
   "cell_type": "code",
   "execution_count": 111,
   "id": "naked-polish",
   "metadata": {},
   "outputs": [
    {
     "data": {
      "text/plain": [
       "date        state                     fips  cases    deaths\n",
       "2022-03-27  Alabama                   1     1292508  19210     1\n",
       "            Alaska                    2     244800   1186      1\n",
       "            Nevada                    32    712404   10053     1\n",
       "            New Hampshire             33    301777   2445      1\n",
       "            New Jersey                34    2195320  33212     1\n",
       "            New Mexico                35    517225   7208      1\n",
       "            New York                  36    4966262  67276     1\n",
       "            North Carolina            37    2626216  23184     1\n",
       "            North Dakota              38    239675   2279      1\n",
       "            Northern Mariana Islands  69    11022    33        1\n",
       "dtype: int64"
      ]
     },
     "execution_count": 111,
     "metadata": {},
     "output_type": "execute_result"
    }
   ],
   "source": [
    "current.value_counts()[:10]"
   ]
  },
  {
   "cell_type": "code",
   "execution_count": 112,
   "id": "existing-portfolio",
   "metadata": {},
   "outputs": [
    {
     "data": {
      "text/html": [
       "<div>\n",
       "<style scoped>\n",
       "    .dataframe tbody tr th:only-of-type {\n",
       "        vertical-align: middle;\n",
       "    }\n",
       "\n",
       "    .dataframe tbody tr th {\n",
       "        vertical-align: top;\n",
       "    }\n",
       "\n",
       "    .dataframe thead th {\n",
       "        text-align: right;\n",
       "    }\n",
       "</style>\n",
       "<table border=\"1\" class=\"dataframe\">\n",
       "  <thead>\n",
       "    <tr style=\"text-align: right;\">\n",
       "      <th></th>\n",
       "      <th>cases</th>\n",
       "      <th>deaths</th>\n",
       "    </tr>\n",
       "    <tr>\n",
       "      <th>state</th>\n",
       "      <th></th>\n",
       "      <th></th>\n",
       "    </tr>\n",
       "  </thead>\n",
       "  <tbody>\n",
       "    <tr>\n",
       "      <th>Alabama</th>\n",
       "      <td>1292508</td>\n",
       "      <td>19210</td>\n",
       "    </tr>\n",
       "    <tr>\n",
       "      <th>Alaska</th>\n",
       "      <td>244800</td>\n",
       "      <td>1186</td>\n",
       "    </tr>\n",
       "    <tr>\n",
       "      <th>American Samoa</th>\n",
       "      <td>2953</td>\n",
       "      <td>0</td>\n",
       "    </tr>\n",
       "    <tr>\n",
       "      <th>Arizona</th>\n",
       "      <td>1997037</td>\n",
       "      <td>28883</td>\n",
       "    </tr>\n",
       "    <tr>\n",
       "      <th>Arkansas</th>\n",
       "      <td>832553</td>\n",
       "      <td>11210</td>\n",
       "    </tr>\n",
       "  </tbody>\n",
       "</table>\n",
       "</div>"
      ],
      "text/plain": [
       "                  cases  deaths\n",
       "state                          \n",
       "Alabama         1292508   19210\n",
       "Alaska           244800    1186\n",
       "American Samoa     2953       0\n",
       "Arizona         1997037   28883\n",
       "Arkansas         832553   11210"
      ]
     },
     "execution_count": 112,
     "metadata": {},
     "output_type": "execute_result"
    }
   ],
   "source": [
    "df_grouped_states = current[['cases', 'deaths']].groupby(current['state']).sum()\n",
    "df_grouped_states.head()"
   ]
  },
  {
   "cell_type": "markdown",
   "id": "rough-scale",
   "metadata": {},
   "source": [
    "## Top 5 States (Cases, Deaths)"
   ]
  },
  {
   "cell_type": "code",
   "execution_count": 113,
   "id": "quarterly-cameroon",
   "metadata": {},
   "outputs": [
    {
     "data": {
      "text/html": [
       "<div>\n",
       "<style scoped>\n",
       "    .dataframe tbody tr th:only-of-type {\n",
       "        vertical-align: middle;\n",
       "    }\n",
       "\n",
       "    .dataframe tbody tr th {\n",
       "        vertical-align: top;\n",
       "    }\n",
       "\n",
       "    .dataframe thead th {\n",
       "        text-align: right;\n",
       "    }\n",
       "</style>\n",
       "<table border=\"1\" class=\"dataframe\">\n",
       "  <thead>\n",
       "    <tr style=\"text-align: right;\">\n",
       "      <th></th>\n",
       "      <th>cases</th>\n",
       "      <th>deaths</th>\n",
       "    </tr>\n",
       "    <tr>\n",
       "      <th>state</th>\n",
       "      <th></th>\n",
       "      <th></th>\n",
       "    </tr>\n",
       "  </thead>\n",
       "  <tbody>\n",
       "    <tr>\n",
       "      <th>California</th>\n",
       "      <td>9088616</td>\n",
       "      <td>88709</td>\n",
       "    </tr>\n",
       "    <tr>\n",
       "      <th>Texas</th>\n",
       "      <td>6668425</td>\n",
       "      <td>87328</td>\n",
       "    </tr>\n",
       "    <tr>\n",
       "      <th>Florida</th>\n",
       "      <td>5841469</td>\n",
       "      <td>73027</td>\n",
       "    </tr>\n",
       "    <tr>\n",
       "      <th>New York</th>\n",
       "      <td>4966262</td>\n",
       "      <td>67276</td>\n",
       "    </tr>\n",
       "    <tr>\n",
       "      <th>Illinois</th>\n",
       "      <td>3066843</td>\n",
       "      <td>37589</td>\n",
       "    </tr>\n",
       "  </tbody>\n",
       "</table>\n",
       "</div>"
      ],
      "text/plain": [
       "              cases  deaths\n",
       "state                      \n",
       "California  9088616   88709\n",
       "Texas       6668425   87328\n",
       "Florida     5841469   73027\n",
       "New York    4966262   67276\n",
       "Illinois    3066843   37589"
      ]
     },
     "execution_count": 113,
     "metadata": {},
     "output_type": "execute_result"
    }
   ],
   "source": [
    "df_grouped_states_top5 = df_grouped_states.sort_values(['cases', 'deaths'], ascending=False)[:5]\n",
    "df_grouped_states_top5"
   ]
  },
  {
   "cell_type": "code",
   "execution_count": 114,
   "id": "found-disposal",
   "metadata": {},
   "outputs": [
    {
     "data": {
      "text/plain": [
       "<AxesSubplot:xlabel='state'>"
      ]
     },
     "execution_count": 114,
     "metadata": {},
     "output_type": "execute_result"
    },
    {
     "data": {
      "image/png": "[encoded data removed]",
      "text/plain": [
       "<Figure size 432x288 with 1 Axes>"
      ]
     },
     "metadata": {
      "needs_background": "light"
     },
     "output_type": "display_data"
    }
   ],
   "source": [
    "df_grouped_states_top5.plot(kind='bar')"
   ]
  },
  {
   "cell_type": "markdown",
   "id": "distinct-judges",
   "metadata": {},
   "source": [
    "## Cases Last 5 Days"
   ]
  },
  {
   "cell_type": "code",
   "execution_count": 115,
   "id": "viral-trace",
   "metadata": {},
   "outputs": [
    {
     "data": {
      "text/plain": [
       "date\n",
       "2022-03-23    79762066\n",
       "2022-03-24    79799812\n",
       "2022-03-25    79833289\n",
       "2022-03-26    79845312\n",
       "2022-03-27    79852810\n",
       "Name: cases, dtype: int64"
      ]
     },
     "execution_count": 115,
     "metadata": {},
     "output_type": "execute_result"
    }
   ],
   "source": [
    "last_5cases = df_states['cases'].groupby(df_states['date']).sum()\n",
    "last_5cases.tail()"
   ]
  },
  {
   "cell_type": "code",
   "execution_count": 116,
   "id": "casual-moldova",
   "metadata": {},
   "outputs": [
    {
     "data": {
      "text/plain": [
       "<AxesSubplot:xlabel='date'>"
      ]
     },
     "execution_count": 116,
     "metadata": {},
     "output_type": "execute_result"
    },
    {
     "data": {
      "image/png": "[encoded data removed]",
      "text/plain": [
       "<Figure size 432x288 with 1 Axes>"
      ]
     },
     "metadata": {
      "needs_background": "light"
     },
     "output_type": "display_data"
    }
   ],
   "source": [
    "last_5cases.tail().plot(kind='bar')"
   ]
  },
  {
   "cell_type": "markdown",
   "id": "rubber-jamaica",
   "metadata": {
    "tags": []
   },
   "source": [
    "## Deaths Last 5 Days"
   ]
  },
  {
   "cell_type": "code",
   "execution_count": 117,
   "id": "primary-interface",
   "metadata": {},
   "outputs": [
    {
     "data": {
      "text/plain": [
       "date\n",
       "2022-03-23    973459\n",
       "2022-03-24    974441\n",
       "2022-03-25    975302\n",
       "2022-03-26    975465\n",
       "2022-03-27    975515\n",
       "Name: deaths, dtype: int64"
      ]
     },
     "execution_count": 117,
     "metadata": {},
     "output_type": "execute_result"
    }
   ],
   "source": [
    "last_5deaths = df_states['deaths'].groupby(df_states['date']).sum()\n",
    "last_5deaths.tail()"
   ]
  },
  {
   "cell_type": "code",
   "execution_count": 118,
   "id": "seasonal-insider",
   "metadata": {},
   "outputs": [
    {
     "data": {
      "text/plain": [
       "<AxesSubplot:xlabel='date'>"
      ]
     },
     "execution_count": 118,
     "metadata": {},
     "output_type": "execute_result"
    },
    {
     "data": {
      "image/png": "[encoded data removed]",
      "text/plain": [
       "<Figure size 432x288 with 1 Axes>"
      ]
     },
     "metadata": {
      "needs_background": "light"
     },
     "output_type": "display_data"
    }
   ],
   "source": [
    "last_5deaths.tail().plot(kind='bar', color=['orange'])"
   ]
  },
  {
   "cell_type": "code",
   "execution_count": null,
   "id": "solar-monday",
   "metadata": {},
   "outputs": [],
   "source": []
  }
 ],
 "metadata": {
  "kernelspec": {
   "display_name": "Python 3",
   "language": "python",
   "name": "python3"
  },
  "language_info": {
   "codemirror_mode": {
    "name": "ipython",
    "version": 3
   },
   "file_extension": ".py",
   "mimetype": "text/x-python",
   "name": "python",
   "nbconvert_exporter": "python",
   "pygments_lexer": "ipython3",
   "version": "3.8.10"
  }
 },
 "nbformat": 4,
 "nbformat_minor": 5
}
