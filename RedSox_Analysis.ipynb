{
 "cells": [
  {
   "cell_type": "markdown",
   "id": "shared-startup",
   "metadata": {},
   "source": [
    "## RedSox\n",
    "<img src=\"http://baseball.derekmiller.us/images/logos/redSox.png\">"
   ]
  },
  {
   "cell_type": "code",
   "execution_count": 5,
   "id": "lonely-enclosure",
   "metadata": {},
   "outputs": [],
   "source": [
    "%matplotlib inline\n",
    "import pandas as pd\n",
    "import matplotlib.pyplot as plt\n",
    "from datetime import datetime\n",
    "from tabulate import tabulate\n",
    "plt.style.use('seaborn-bright')"
   ]
  },
  {
   "cell_type": "markdown",
   "id": "piano-relay",
   "metadata": {},
   "source": [
    "## Data"
   ]
  },
  {
   "cell_type": "code",
   "execution_count": 6,
   "id": "together-teaching",
   "metadata": {},
   "outputs": [],
   "source": [
    "# url for each year\n",
    "\n",
    "url_2020 = 'https://www.baseball-reference.com/teams/BOS/2020-schedule-scores.shtml'\n",
    "url_2019 = 'https://www.baseball-reference.com/teams/BOS/2019-schedule-scores.shtml'\n",
    "url_2018 = 'https://www.baseball-reference.com/teams/BOS/2018-schedule-scores.shtml'\n",
    "url_2017 = 'https://www.baseball-reference.com/teams/BOS/2017-schedule-scores.shtml'\n",
    "url_2016 = 'https://www.baseball-reference.com/teams/BOS/2016-schedule-scores.shtml'\n",
    "url_2015 = 'https://www.baseball-reference.com/teams/BOS/2015-schedule-scores.shtml'\n",
    "\n",
    "# DataFrame for each year\n",
    "\n",
    "df_2020 = pd.read_html(url_2020)[0]\n",
    "df_2019 = pd.read_html(url_2019)[0]\n",
    "df_2018 = pd.read_html(url_2018)[0]\n",
    "df_2017 = pd.read_html(url_2017)[0]\n",
    "df_2016 = pd.read_html(url_2016)[0]\n",
    "df_2015 = pd.read_html(url_2015)[0]\n",
    "\n",
    "# create list of all DataFrames\n",
    "\n",
    "years = [df_2020, df_2019, df_2018, df_2017, df_2016, df_2015]\n",
    "\n",
    "# Concat all df together\n",
    "r_data = pd.concat(years)\n",
    "\n",
    "r_data = r_data[r_data['Gm#'] != 'Gm#']\n"
   ]
  },
  {
   "cell_type": "code",
   "execution_count": 7,
   "id": "touched-familiar",
   "metadata": {},
   "outputs": [
    {
     "data": {
      "text/html": [
       "<div>\n",
       "<style scoped>\n",
       "    .dataframe tbody tr th:only-of-type {\n",
       "        vertical-align: middle;\n",
       "    }\n",
       "\n",
       "    .dataframe tbody tr th {\n",
       "        vertical-align: top;\n",
       "    }\n",
       "\n",
       "    .dataframe thead th {\n",
       "        text-align: right;\n",
       "    }\n",
       "</style>\n",
       "<table border=\"1\" class=\"dataframe\">\n",
       "  <thead>\n",
       "    <tr style=\"text-align: right;\">\n",
       "      <th></th>\n",
       "      <th>Gm#</th>\n",
       "      <th>Date</th>\n",
       "      <th>Unnamed: 2</th>\n",
       "      <th>Tm</th>\n",
       "      <th>Unnamed: 4</th>\n",
       "      <th>Opp</th>\n",
       "      <th>W/L</th>\n",
       "      <th>R</th>\n",
       "      <th>RA</th>\n",
       "      <th>Inn</th>\n",
       "      <th>...</th>\n",
       "      <th>GB</th>\n",
       "      <th>Win</th>\n",
       "      <th>Loss</th>\n",
       "      <th>Save</th>\n",
       "      <th>Time</th>\n",
       "      <th>D/N</th>\n",
       "      <th>Attendance</th>\n",
       "      <th>cLI</th>\n",
       "      <th>Streak</th>\n",
       "      <th>Orig. Scheduled</th>\n",
       "    </tr>\n",
       "  </thead>\n",
       "  <tbody>\n",
       "    <tr>\n",
       "      <th>0</th>\n",
       "      <td>1</td>\n",
       "      <td>Friday, Jul 24</td>\n",
       "      <td>boxscore</td>\n",
       "      <td>BOS</td>\n",
       "      <td>NaN</td>\n",
       "      <td>BAL</td>\n",
       "      <td>W</td>\n",
       "      <td>13</td>\n",
       "      <td>2</td>\n",
       "      <td>NaN</td>\n",
       "      <td>...</td>\n",
       "      <td>Tied</td>\n",
       "      <td>Eovaldi</td>\n",
       "      <td>Milone</td>\n",
       "      <td>NaN</td>\n",
       "      <td>3:18</td>\n",
       "      <td>N</td>\n",
       "      <td>NaN</td>\n",
       "      <td>1.16</td>\n",
       "      <td>+</td>\n",
       "      <td>NaN</td>\n",
       "    </tr>\n",
       "    <tr>\n",
       "      <th>1</th>\n",
       "      <td>2</td>\n",
       "      <td>Saturday, Jul 25</td>\n",
       "      <td>boxscore</td>\n",
       "      <td>BOS</td>\n",
       "      <td>NaN</td>\n",
       "      <td>BAL</td>\n",
       "      <td>L</td>\n",
       "      <td>2</td>\n",
       "      <td>7</td>\n",
       "      <td>NaN</td>\n",
       "      <td>...</td>\n",
       "      <td>Tied</td>\n",
       "      <td>Cobb</td>\n",
       "      <td>Perez</td>\n",
       "      <td>NaN</td>\n",
       "      <td>3:01</td>\n",
       "      <td>D</td>\n",
       "      <td>NaN</td>\n",
       "      <td>1.18</td>\n",
       "      <td>-</td>\n",
       "      <td>NaN</td>\n",
       "    </tr>\n",
       "    <tr>\n",
       "      <th>2</th>\n",
       "      <td>3</td>\n",
       "      <td>Sunday, Jul 26</td>\n",
       "      <td>boxscore</td>\n",
       "      <td>BOS</td>\n",
       "      <td>NaN</td>\n",
       "      <td>BAL</td>\n",
       "      <td>L</td>\n",
       "      <td>4</td>\n",
       "      <td>7</td>\n",
       "      <td>NaN</td>\n",
       "      <td>...</td>\n",
       "      <td>1.0</td>\n",
       "      <td>LeBlanc</td>\n",
       "      <td>Weber</td>\n",
       "      <td>Sulser</td>\n",
       "      <td>3:13</td>\n",
       "      <td>D</td>\n",
       "      <td>NaN</td>\n",
       "      <td>1.19</td>\n",
       "      <td>--</td>\n",
       "      <td>NaN</td>\n",
       "    </tr>\n",
       "    <tr>\n",
       "      <th>3</th>\n",
       "      <td>4</td>\n",
       "      <td>Monday, Jul 27</td>\n",
       "      <td>boxscore</td>\n",
       "      <td>BOS</td>\n",
       "      <td>NaN</td>\n",
       "      <td>NYM</td>\n",
       "      <td>L</td>\n",
       "      <td>4</td>\n",
       "      <td>7</td>\n",
       "      <td>NaN</td>\n",
       "      <td>...</td>\n",
       "      <td>2.0</td>\n",
       "      <td>Wacha</td>\n",
       "      <td>Osich</td>\n",
       "      <td>Lugo</td>\n",
       "      <td>3:11</td>\n",
       "      <td>N</td>\n",
       "      <td>NaN</td>\n",
       "      <td>1.07</td>\n",
       "      <td>---</td>\n",
       "      <td>NaN</td>\n",
       "    </tr>\n",
       "    <tr>\n",
       "      <th>4</th>\n",
       "      <td>5</td>\n",
       "      <td>Tuesday, Jul 28</td>\n",
       "      <td>boxscore</td>\n",
       "      <td>BOS</td>\n",
       "      <td>NaN</td>\n",
       "      <td>NYM</td>\n",
       "      <td>L</td>\n",
       "      <td>3</td>\n",
       "      <td>8</td>\n",
       "      <td>NaN</td>\n",
       "      <td>...</td>\n",
       "      <td>3.0</td>\n",
       "      <td>Peterson</td>\n",
       "      <td>Hall</td>\n",
       "      <td>NaN</td>\n",
       "      <td>2:58</td>\n",
       "      <td>N</td>\n",
       "      <td>NaN</td>\n",
       "      <td>1.04</td>\n",
       "      <td>----</td>\n",
       "      <td>NaN</td>\n",
       "    </tr>\n",
       "  </tbody>\n",
       "</table>\n",
       "<p>5 rows × 22 columns</p>\n",
       "</div>"
      ],
      "text/plain": [
       "  Gm#              Date Unnamed: 2   Tm Unnamed: 4  Opp W/L   R RA  Inn  ...  \\\n",
       "0   1    Friday, Jul 24   boxscore  BOS        NaN  BAL   W  13  2  NaN  ...   \n",
       "1   2  Saturday, Jul 25   boxscore  BOS        NaN  BAL   L   2  7  NaN  ...   \n",
       "2   3    Sunday, Jul 26   boxscore  BOS        NaN  BAL   L   4  7  NaN  ...   \n",
       "3   4    Monday, Jul 27   boxscore  BOS        NaN  NYM   L   4  7  NaN  ...   \n",
       "4   5   Tuesday, Jul 28   boxscore  BOS        NaN  NYM   L   3  8  NaN  ...   \n",
       "\n",
       "     GB       Win    Loss    Save  Time D/N Attendance   cLI Streak  \\\n",
       "0  Tied   Eovaldi  Milone     NaN  3:18   N        NaN  1.16      +   \n",
       "1  Tied      Cobb   Perez     NaN  3:01   D        NaN  1.18      -   \n",
       "2   1.0   LeBlanc   Weber  Sulser  3:13   D        NaN  1.19     --   \n",
       "3   2.0     Wacha   Osich    Lugo  3:11   N        NaN  1.07    ---   \n",
       "4   3.0  Peterson    Hall     NaN  2:58   N        NaN  1.04   ----   \n",
       "\n",
       "  Orig. Scheduled  \n",
       "0             NaN  \n",
       "1             NaN  \n",
       "2             NaN  \n",
       "3             NaN  \n",
       "4             NaN  \n",
       "\n",
       "[5 rows x 22 columns]"
      ]
     },
     "execution_count": 7,
     "metadata": {},
     "output_type": "execute_result"
    }
   ],
   "source": [
    "r_data.head()"
   ]
  },
  {
   "cell_type": "code",
   "execution_count": 8,
   "id": "continuing-customs",
   "metadata": {},
   "outputs": [
    {
     "name": "stdout",
     "output_type": "stream",
     "text": [
      "<class 'pandas.core.frame.DataFrame'>\n",
      "Int64Index: 870 entries, 0 to 167\n",
      "Data columns (total 22 columns):\n",
      " #   Column           Non-Null Count  Dtype \n",
      "---  ------           --------------  ----- \n",
      " 0   Gm#              870 non-null    object\n",
      " 1   Date             870 non-null    object\n",
      " 2   Unnamed: 2       870 non-null    object\n",
      " 3   Tm               870 non-null    object\n",
      " 4   Unnamed: 4       434 non-null    object\n",
      " 5   Opp              870 non-null    object\n",
      " 6   W/L              870 non-null    object\n",
      " 7   R                870 non-null    object\n",
      " 8   RA               870 non-null    object\n",
      " 9   Inn              83 non-null     object\n",
      " 10  W-L              870 non-null    object\n",
      " 11  Rank             870 non-null    object\n",
      " 12  GB               870 non-null    object\n",
      " 13  Win              870 non-null    object\n",
      " 14  Loss             870 non-null    object\n",
      " 15  Save             412 non-null    object\n",
      " 16  Time             870 non-null    object\n",
      " 17  D/N              870 non-null    object\n",
      " 18  Attendance       810 non-null    object\n",
      " 19  cLI              870 non-null    object\n",
      " 20  Streak           870 non-null    object\n",
      " 21  Orig. Scheduled  14 non-null     object\n",
      "dtypes: object(22)\n",
      "memory usage: 156.3+ KB\n"
     ]
    }
   ],
   "source": [
    "r_data.info()"
   ]
  },
  {
   "cell_type": "code",
   "execution_count": 23,
   "id": "packed-request",
   "metadata": {},
   "outputs": [
    {
     "name": "stdout",
     "output_type": "stream",
     "text": [
      "W       448\n",
      "L       358\n",
      "W-wo     32\n",
      "L-wo     32\n",
      "Name: W/L, dtype: int64\n"
     ]
    },
    {
     "data": {
      "text/plain": [
       "<AxesSubplot:>"
      ]
     },
     "execution_count": 23,
     "metadata": {},
     "output_type": "execute_result"
    },
    {
     "data": {
      "image/png": "[encoded data removed]",
      "text/plain": [
       "<Figure size 432x288 with 1 Axes>"
      ]
     },
     "metadata": {
      "needs_background": "light"
     },
     "output_type": "display_data"
    }
   ],
   "source": [
    "wvl = r_data['W/L'].value_counts()\n",
    "print(wvl)\n",
    "wvl.plot(kind='bar', color=['red', 'navy'])"
   ]
  },
  {
   "cell_type": "code",
   "execution_count": 30,
   "id": "available-potter",
   "metadata": {},
   "outputs": [],
   "source": [
    "def against_opp(opp):\n",
    "    opp_data = r_data[r_data['Opp'] == opp.upper()]\n",
    "    opp_wvl = opp_data['W/L'].value_counts()\n",
    "    print(opp_data.head())\n",
    "    print()\n",
    "    print(opp_wvl)\n",
    "    opp_wvl.plot(kind='bar', color=['red', 'navy'])\n",
    "    "
   ]
  },
  {
   "cell_type": "code",
   "execution_count": 31,
   "id": "continuing-wesley",
   "metadata": {},
   "outputs": [
    {
     "name": "stdout",
     "output_type": "stream",
     "text": [
      "   Gm#              Date Unnamed: 2   Tm Unnamed: 4  Opp W/L  R  RA  Inn  ...  \\\n",
      "7    8    Friday, Jul 31   boxscore  BOS          @  NYY   L  1   5  NaN  ...   \n",
      "9    9   Saturday, Aug 1   boxscore  BOS          @  NYY   L  2   5  NaN  ...   \n",
      "10  10     Sunday, Aug 2   boxscore  BOS          @  NYY   L  7   9  NaN  ...   \n",
      "20  20    Friday, Aug 14   boxscore  BOS          @  NYY   L  3  10  NaN  ...   \n",
      "21  21  Saturday, Aug 15   boxscore  BOS          @  NYY   L  5  11  NaN  ...   \n",
      "\n",
      "     GB         Win     Loss     Save  Time D/N Attendance   cLI  Streak  \\\n",
      "7   3.0  Montgomery    Weber      NaN  3:08   N        NaN  1.22       -   \n",
      "9   4.0      Nelson   Godley     Hale  3:07   N        NaN  1.17      --   \n",
      "10  5.0    Ottavino   Barnes  Britton  3:12   N        NaN  1.10     ---   \n",
      "20  7.5        Cole   Brewer      NaN  3:35   N        NaN   .65   -----   \n",
      "21  8.5      Paxton  Eovaldi      NaN  3:05   N        NaN   .53  ------   \n",
      "\n",
      "   Orig. Scheduled  \n",
      "7              NaN  \n",
      "9              NaN  \n",
      "10             NaN  \n",
      "20             NaN  \n",
      "21             NaN  \n",
      "\n",
      "[5 rows x 22 columns]\n",
      "\n",
      "L       61\n",
      "W       40\n",
      "W-wo     3\n",
      "L-wo     1\n",
      "Name: W/L, dtype: int64\n"
     ]
    },
    {
     "data": {
      "image/png": "[encoded data removed]",
      "text/plain": [
       "<Figure size 432x288 with 1 Axes>"
      ]
     },
     "metadata": {
      "needs_background": "light"
     },
     "output_type": "display_data"
    }
   ],
   "source": [
    "against_opp('nyy')"
   ]
  },
  {
   "cell_type": "code",
   "execution_count": null,
   "id": "ceramic-taylor",
   "metadata": {},
   "outputs": [],
   "source": []
  }
 ],
 "metadata": {
  "kernelspec": {
   "display_name": "Python 3",
   "language": "python",
   "name": "python3"
  },
  "language_info": {
   "codemirror_mode": {
    "name": "ipython",
    "version": 3
   },
   "file_extension": ".py",
   "mimetype": "text/x-python",
   "name": "python",
   "nbconvert_exporter": "python",
   "pygments_lexer": "ipython3",
   "version": "3.8.10"
  }
 },
 "nbformat": 4,
 "nbformat_minor": 5
}
