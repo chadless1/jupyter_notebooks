{
 "cells": [
  {
   "cell_type": "markdown",
   "metadata": {},
   "source": [
    "## Celtics\n",
    "\n",
    "<img src=\"https://upload.wikimedia.org/wikipedia/en/thumb/8/8f/Boston_Celtics.svg/1200px-Boston_Celtics.svg.png\" heigh=150, width=150>"
   ]
  },
  {
   "cell_type": "markdown",
   "metadata": {},
   "source": [
    "### Data"
   ]
  },
  {
   "cell_type": "code",
   "execution_count": 3,
   "metadata": {},
   "outputs": [],
   "source": [
    "%matplotlib inline\n",
    "import pandas as pd\n",
    "import matplotlib.pyplot as plt\n",
    "from datetime import datetime\n",
    "from tabulate import tabulate\n",
    "plt.style.use('seaborn-bright')"
   ]
  },
  {
   "cell_type": "code",
   "execution_count": 4,
   "metadata": {},
   "outputs": [],
   "source": [
    "# url for each year\n",
    "\n",
    "url_2020 = 'https://www.basketball-reference.com/teams/BOS/2020_games.html'\n",
    "url_2019 = 'https://www.basketball-reference.com/teams/BOS/2019_games.html'\n",
    "url_2018 = 'https://www.basketball-reference.com/teams/BOS/2018_games.html'\n",
    "url_2017 = 'https://www.basketball-reference.com/teams/BOS/2017_games.html'\n",
    "url_2016 = 'https://www.basketball-reference.com/teams/BOS/2016_games.html'\n",
    "url_2015 = 'https://www.basketball-reference.com/teams/BOS/2015_games.html'\n",
    "\n",
    "# DataFrame for each year\n",
    "\n",
    "df_2020 = pd.read_html(url_2020)[0]\n",
    "df_2019 = pd.read_html(url_2019)[0]\n",
    "df_2018 = pd.read_html(url_2018)[0]\n",
    "df_2017 = pd.read_html(url_2017)[0]\n",
    "df_2016 = pd.read_html(url_2016)[0]\n",
    "df_2015 = pd.read_html(url_2015)[0]\n",
    "\n",
    "# create list of all DataFrames\n",
    "\n",
    "years = [df_2020, df_2019, df_2018, df_2017, df_2016, df_2015]\n",
    "\n",
    "# Concat all df together\n",
    "c_data = pd.concat(years)\n",
    "\n",
    "# rename column\n",
    "c_data.rename(columns={'Unnamed: 7': 'Result'}, inplace=True)\n",
    "\n",
    "# remove extra header\n",
    "c_data = c_data[c_data.G != 'G']\n",
    "\n",
    "# change date to datetime object\n",
    "c_data['Date'] = pd.to_datetime(c_data['Date'])"
   ]
  },
  {
   "cell_type": "markdown",
   "metadata": {},
   "source": [
    "<h2>Total Games</h2>"
   ]
  },
  {
   "cell_type": "code",
   "execution_count": 5,
   "metadata": {},
   "outputs": [
    {
     "name": "stdout",
     "output_type": "stream",
     "text": [
      "  482\n"
     ]
    }
   ],
   "source": [
    "tgp = c_data['Result'].count()\n",
    "print(\" \", tgp)"
   ]
  },
  {
   "cell_type": "markdown",
   "metadata": {},
   "source": [
    "<h2>Win vs Loss</h2>"
   ]
  },
  {
   "cell_type": "code",
   "execution_count": 19,
   "metadata": {},
   "outputs": [
    {
     "name": "stdout",
     "output_type": "stream",
     "text": [
      "W    293\n",
      "L    189\n",
      "Name: Result, dtype: int64\n"
     ]
    },
    {
     "data": {
      "text/plain": [
       "<AxesSubplot:>"
      ]
     },
     "execution_count": 19,
     "metadata": {},
     "output_type": "execute_result"
    },
    {
     "data": {
      "image/png": "[encoded data removed]",
      "text/plain": [
       "<Figure size 432x288 with 1 Axes>"
      ]
     },
     "metadata": {
      "needs_background": "light"
     },
     "output_type": "display_data"
    }
   ],
   "source": [
    "wvl = c_data['Result'].value_counts()\n",
    "print(wvl)\n",
    "\n",
    "wvl.plot(kind='bar', color=['green', 'gold'])"
   ]
  },
  {
   "cell_type": "markdown",
   "metadata": {},
   "source": [
    "### VS Team"
   ]
  },
  {
   "cell_type": "code",
   "execution_count": 33,
   "metadata": {},
   "outputs": [],
   "source": [
    "def opp_team(team):\n",
    "    \n",
    "    opponent = c_data[c_data['Opponent'].str.contains(team)]\n",
    "    opponent = opponent.iloc[:,[1,6,7,9,10]]\n",
    "    opponent = opponent.sort_values(by='Date')\n",
    "    \n",
    "    print(f'Celtivs vs {team}')\n",
    "    print()\n",
    "    print(opponent)\n",
    "    print()\n",
    "    print('Win vs Loss')\n",
    "    print()\n",
    "    print(opponent['Result'].value_counts())\n",
    "    print()\n",
    "    opponent['Result'].value_counts().plot(kind='bar', color=['green', 'gold'])"
   ]
  },
  {
   "cell_type": "markdown",
   "metadata": {},
   "source": [
    "### Instert team name to view results"
   ]
  },
  {
   "cell_type": "code",
   "execution_count": 34,
   "metadata": {},
   "outputs": [
    {
     "name": "stdout",
     "output_type": "stream",
     "text": [
      "Celtivs vs Toronto\n",
      "\n",
      "         Date         Opponent Result   Tm  Opp\n",
      "3  2014-11-05  Toronto Raptors      L  107  110\n",
      "35 2015-01-10  Toronto Raptors      L   96  109\n",
      "79 2015-04-04  Toronto Raptors      W  117  116\n",
      "84 2015-04-14  Toronto Raptors      W   95   93\n",
      "1  2015-10-30  Toronto Raptors      L  103  113\n",
      "44 2016-01-20  Toronto Raptors      L  109  115\n",
      "71 2016-03-18  Toronto Raptors      L   91  105\n",
      "74 2016-03-23  Toronto Raptors      W   91   79\n",
      "23 2016-12-09  Toronto Raptors      L   94  101\n",
      "38 2017-01-10  Toronto Raptors      L  106  114\n",
      "50 2017-02-01  Toronto Raptors      W  109  104\n",
      "59 2017-02-24  Toronto Raptors      L   97  107\n",
      "13 2017-11-12  Toronto Raptors      W   95   94\n",
      "56 2018-02-06  Toronto Raptors      L   91  111\n",
      "78 2018-03-31  Toronto Raptors      W  110   99\n",
      "80 2018-04-04  Toronto Raptors      L   78   96\n",
      "1  2018-10-19  Toronto Raptors      L  101  113\n",
      "14 2018-11-16  Toronto Raptors      W  123  116\n",
      "45 2019-01-16  Toronto Raptors      W  117  108\n",
      "63 2019-02-26  Toronto Raptors      L   95  118\n",
      "1  2019-10-25  Toronto Raptors      W  112  106\n",
      "28 2019-12-25  Toronto Raptors      W  118  102\n",
      "30 2019-12-28  Toronto Raptors      L   97  113\n",
      "71 2020-08-07  Toronto Raptors      W  122  100\n",
      "\n",
      "Win vs Loss\n",
      "\n",
      "L    13\n",
      "W    11\n",
      "Name: Result, dtype: int64\n",
      "\n"
     ]
    },
    {
     "data": {
      "image/png": "[encoded data removed]",
      "text/plain": [
       "<Figure size 432x288 with 1 Axes>"
      ]
     },
     "metadata": {
      "needs_background": "light"
     },
     "output_type": "display_data"
    }
   ],
   "source": [
    "opp_team('Toronto')"
   ]
  },
  {
   "cell_type": "code",
   "execution_count": null,
   "metadata": {},
   "outputs": [],
   "source": []
  }
 ],
 "metadata": {
  "kernelspec": {
   "display_name": "Python 3",
   "language": "python",
   "name": "python3"
  },
  "language_info": {
   "codemirror_mode": {
    "name": "ipython",
    "version": 3
   },
   "file_extension": ".py",
   "mimetype": "text/x-python",
   "name": "python",
   "nbconvert_exporter": "python",
   "pygments_lexer": "ipython3",
   "version": "3.8.10"
  }
 },
 "nbformat": 4,
 "nbformat_minor": 4
}
